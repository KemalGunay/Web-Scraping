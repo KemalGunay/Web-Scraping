{
 "cells": [
  {
   "cell_type": "code",
   "execution_count": 2,
   "metadata": {
    "collapsed": true
   },
   "outputs": [],
   "source": [
    "import urllib.request\n",
    "from bs4 import BeautifulSoup as bs\n",
    "import re\n",
    "import pandas as pd"
   ]
  },
  {
   "cell_type": "markdown",
   "source": [
    "# Extract and Store Function Names & Usage\n",
    "\n",
    "From the Python Documentation - Random Functions webpage: https://docs.python.org/3/library/random.html"
   ],
   "metadata": {
    "collapsed": false,
    "pycharm": {
     "name": "#%% md\n"
    }
   }
  },
  {
   "cell_type": "code",
   "execution_count": 3,
   "outputs": [
    {
     "name": "stdout",
     "output_type": "stream",
     "text": [
      "list of function names: ['random.seed', 'random.getstate', 'random.setstate', 'random.randbytes', 'random.randrange']\n",
      "\n",
      "function description: Initialize the random number generator. If a is omitted or None, the current system time is used.  If randomness sources are provided by the operating system, they are used instead of the system time (see the os.urandom() function for details on availability). If a is an int, it is used directly. With version 2 (the default), a str, bytes, or bytearray object gets converted to an int and all of its bits are used. With version 1 (provided for reproducing random sequences from older versions of Python), the algorithm for str and bytes generates a narrower range of seeds.  Changed in version 3.2: Moved to the version 2 scheme which uses all of the bits in a string seed.   Deprecated since version 3.9: In the future, the seed must be one of the following types: NoneType, int, float, str, bytes, or bytearray.  \n",
      "\n",
      "number of items in function names: 25\n",
      "number of items in function description: 25\n"
     ]
    }
   ],
   "source": [
    "#load html code from a url\n",
    "page = urllib.request.urlopen(\"https://docs.python.org/3/library/random.html\")\n",
    "soup = bs(page)\n",
    "\n",
    "#find all function names\n",
    "names = soup.body.findAll('dt')\n",
    "function_names = re.findall('id=\"random.\\w+', str(names))\n",
    "function_names = [item[4:] for item in function_names]\n",
    "\n",
    "#find all function descriptions\n",
    "description = soup.body.findAll('dd')\n",
    "function_usage = []\n",
    "\n",
    "for item in description:\n",
    "  item = item.text\n",
    "  item = item.replace('\\n', ' ')\n",
    "  function_usage.append(item)\n",
    "\n",
    "print('list of function names:',function_names[:5])\n",
    "print('\\nfunction description:', function_usage[0])\n",
    "print('\\nnumber of items in function names:', len(function_names))\n",
    "print('number of items in function description:', len(function_usage))"
   ],
   "metadata": {
    "collapsed": false,
    "pycharm": {
     "name": "#%%\n"
    }
   }
  },
  {
   "cell_type": "markdown",
   "source": [
    "# Store Data inside a DataFrame\n",
    "After ensuring the lenghts of both lists match"
   ],
   "metadata": {
    "collapsed": false,
    "pycharm": {
     "name": "#%% md\n"
    }
   }
  },
  {
   "cell_type": "code",
   "execution_count": 4,
   "outputs": [
    {
     "data": {
      "text/plain": "      function name                                     function usage\n0       random.seed  Initialize the random number generator. If a i...\n1   random.getstate  Return an object capturing the current interna...\n2   random.setstate  state should have been obtained from a previou...\n3  random.randbytes  Generate n random bytes. This method should no...\n4  random.randrange  Return a randomly selected element from range(...",
      "text/html": "<div>\n<style scoped>\n    .dataframe tbody tr th:only-of-type {\n        vertical-align: middle;\n    }\n\n    .dataframe tbody tr th {\n        vertical-align: top;\n    }\n\n    .dataframe thead th {\n        text-align: right;\n    }\n</style>\n<table border=\"1\" class=\"dataframe\">\n  <thead>\n    <tr style=\"text-align: right;\">\n      <th></th>\n      <th>function name</th>\n      <th>function usage</th>\n    </tr>\n  </thead>\n  <tbody>\n    <tr>\n      <th>0</th>\n      <td>random.seed</td>\n      <td>Initialize the random number generator. If a i...</td>\n    </tr>\n    <tr>\n      <th>1</th>\n      <td>random.getstate</td>\n      <td>Return an object capturing the current interna...</td>\n    </tr>\n    <tr>\n      <th>2</th>\n      <td>random.setstate</td>\n      <td>state should have been obtained from a previou...</td>\n    </tr>\n    <tr>\n      <th>3</th>\n      <td>random.randbytes</td>\n      <td>Generate n random bytes. This method should no...</td>\n    </tr>\n    <tr>\n      <th>4</th>\n      <td>random.randrange</td>\n      <td>Return a randomly selected element from range(...</td>\n    </tr>\n  </tbody>\n</table>\n</div>"
     },
     "execution_count": 4,
     "metadata": {},
     "output_type": "execute_result"
    }
   ],
   "source": [
    "#create a dataframe\n",
    "data = pd.DataFrame({'function name': function_names, 'function usage': function_usage})\n",
    "data.head()"
   ],
   "metadata": {
    "collapsed": false,
    "pycharm": {
     "name": "#%%\n"
    }
   }
  },
  {
   "cell_type": "markdown",
   "source": [
    "# Export Data into a csv file\n",
    "The file will be saved in the same directory as the notebook"
   ],
   "metadata": {
    "collapsed": false,
    "pycharm": {
     "name": "#%% md\n"
    }
   }
  },
  {
   "cell_type": "code",
   "execution_count": 5,
   "outputs": [],
   "source": [
    "data.to_csv('my_file.csv')"
   ],
   "metadata": {
    "collapsed": false,
    "pycharm": {
     "name": "#%%\n"
    }
   }
  },
  {
   "cell_type": "markdown",
   "source": [
    "# REFERENCE\n",
    "https://www.youtube.com/watch?v=ySNSY7iiBDY&t=174s"
   ],
   "metadata": {
    "collapsed": false,
    "pycharm": {
     "name": "#%% md\n"
    }
   }
  },
  {
   "cell_type": "code",
   "execution_count": null,
   "outputs": [],
   "source": [],
   "metadata": {
    "collapsed": false,
    "pycharm": {
     "name": "#%%\n"
    }
   }
  }
 ],
 "metadata": {
  "kernelspec": {
   "display_name": "Python 3",
   "language": "python",
   "name": "python3"
  },
  "language_info": {
   "codemirror_mode": {
    "name": "ipython",
    "version": 2
   },
   "file_extension": ".py",
   "mimetype": "text/x-python",
   "name": "python",
   "nbconvert_exporter": "python",
   "pygments_lexer": "ipython2",
   "version": "2.7.6"
  }
 },
 "nbformat": 4,
 "nbformat_minor": 0
}